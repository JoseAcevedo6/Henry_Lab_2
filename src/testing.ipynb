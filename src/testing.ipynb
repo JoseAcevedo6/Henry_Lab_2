{
 "cells": [
  {
   "cell_type": "code",
   "execution_count": 5,
   "metadata": {},
   "outputs": [],
   "source": [
    "from sklearn.model_selection import train_test_split\n",
    "from sklearn.preprocessing import StandardScaler, LabelEncoder\n",
    "\n",
    "from sklearn.linear_model import LogisticRegression\n",
    "from sklearn.tree import DecisionTreeClassifier\n",
    "from sklearn.neighbors import KNeighborsClassifier\n",
    "from sklearn.svm import SVC\n",
    "from sklearn.metrics import confusion_matrix, recall_score, accuracy_score, classification_report\n",
    "\n",
    "import matplotlib.pyplot as plt\n",
    "import seaborn as sns\n",
    "import pandas as pd\n",
    "import numpy as np\n",
    "\n",
    "from etl import transform"
   ]
  },
  {
   "cell_type": "code",
   "execution_count": 96,
   "metadata": {},
   "outputs": [],
   "source": [
    "def plot_corre_heatmap(corr):\n",
    "    '''\n",
    "    Definimos una función para ayudarnos a graficar un heatmap de correlación\n",
    "    '''\n",
    "    plt.figure(figsize=(16,14))\n",
    "    sns.heatmap(corr, cbar = True,  square = False, annot=True, fmt= '.2f'\n",
    "                ,annot_kws={'size': 15},cmap= 'coolwarm')\n",
    "    plt.xticks(rotation = 45)\n",
    "    plt.yticks(rotation = 45)\n",
    "    # Arreglamos un pequeño problema de visualización\n",
    "    b, t = plt.ylim() # discover the values for bottom and top\n",
    "    b += 0.5 # Add 0.5 to the bottom\n",
    "    t -= 0.5 # Subtract 0.5 from the top\n",
    "    plt.ylim(b, t) # update the ylim(bottom, top) values\n",
    "    plt.show()"
   ]
  },
  {
   "cell_type": "code",
   "execution_count": 97,
   "metadata": {},
   "outputs": [],
   "source": [
    "data = pd.read_csv('../datasets/hospitalizaciones_train.csv')\n",
    "data2 = pd.read_csv('../datasets/hospitalizaciones_test.csv')"
   ]
  },
  {
   "cell_type": "code",
   "execution_count": 98,
   "metadata": {},
   "outputs": [],
   "source": [
    "columns = ['Department', 'Ward_Facility_Code', 'doctor_name', 'Age','gender', 'Stay (in days)']\n",
    "X_Train, X_Test, Y_Train, Y_Test = transform(data, columns, target='Stay (in days)', test_size=0.20, random_state=42, array=True, scalar=True)"
   ]
  },
  {
   "cell_type": "code",
   "execution_count": 99,
   "metadata": {},
   "outputs": [
    {
     "name": "stdout",
     "output_type": "stream",
     "text": [
      "X_Train = (288, 5), X_Test = (73, 5)\n",
      "Y_Train = 288,      Y_Test = 73\n"
     ]
    }
   ],
   "source": [
    "print(f'X_Train = {X_Train.shape}, X_Test = {X_Test.shape}\\nY_Train = {Y_Train.size},      Y_Test = {Y_Test.size}')"
   ]
  },
  {
   "cell_type": "code",
   "execution_count": null,
   "metadata": {},
   "outputs": [],
   "source": [
    "corr = data.corr()\n",
    "plot_corre_heatmap(corr)"
   ]
  },
  {
   "cell_type": "code",
   "execution_count": 8,
   "metadata": {},
   "outputs": [],
   "source": [
    "logistic_model = LogisticRegression()\n",
    "logistic_model.fit(X_Train, Y_Train)\n",
    "Y_Pred_logistic = logistic_model.predict(X_Test)"
   ]
  },
  {
   "cell_type": "code",
   "execution_count": 30,
   "metadata": {},
   "outputs": [],
   "source": [
    "svc_model = SVC(kernel='linear', random_state=42)\n",
    "svc_model.fit(X_Train, Y_Train)\n",
    "Y_Pred_svc = svc_model.predict(X_Test)"
   ]
  },
  {
   "cell_type": "code",
   "execution_count": 41,
   "metadata": {},
   "outputs": [],
   "source": [
    "dtc_model = DecisionTreeClassifier(max_depth = 4, criterion='entropy', random_state=42)\n",
    "dtc_model.fit(X_Train, Y_Train)\n",
    "Y_Pred_dtc = dtc_model.predict(X_Test)"
   ]
  },
  {
   "cell_type": "code",
   "execution_count": 100,
   "metadata": {},
   "outputs": [],
   "source": [
    "knn_model = KNeighborsClassifier(n_neighbors=7)\n",
    "knn_model.fit(X_Train, Y_Train)\n",
    "Y_Pred_knn = knn_model.predict(X_Test)"
   ]
  },
  {
   "cell_type": "code",
   "execution_count": null,
   "metadata": {},
   "outputs": [],
   "source": [
    "print(f'Logistic:       Recal = {round(recall_score(Y_Test, Y_Pred_logistic), 2)},      Accuracy = {round(accuracy_score(Y_Test, Y_Pred_logistic), 2)}')\n",
    "print(f'SVC:            Recal = {round(recall_score(Y_Test, Y_Pred_svc), 2)},       Accuracy = {round(accuracy_score(Y_Test, Y_Pred_svc), 2)}')\n",
    "print(f'DecisionTree:   Recal = {round(recall_score(Y_Test, Y_Pred_dtc), 2)},       Accuracy = {round(accuracy_score(Y_Test, Y_Pred_dtc), 2)}')\n",
    "print(f'KNN:            Recal = {round(recall_score(Y_Test, Y_Pred_knn), 2)},      Accuracy = {round(accuracy_score(Y_Test, Y_Pred_knn), 2)}\\n')\n",
    "print(classification_report(Y_Test, Y_Pred_knn))"
   ]
  },
  {
   "cell_type": "code",
   "execution_count": 104,
   "metadata": {},
   "outputs": [],
   "source": [
    "columns_data2 = ['Department', 'Ward_Facility_Code', 'doctor_name', 'Age','gender']\n",
    "eval = transform(data2, columns_data2, array=True, scalar=True)"
   ]
  },
  {
   "cell_type": "code",
   "execution_count": 108,
   "metadata": {},
   "outputs": [],
   "source": [
    "predition = pd.DataFrame(knn_model.predict(eval))\n",
    "predition.columns = ['pred']\n",
    "predition.to_csv('JoseAcevedo6', index=False)"
   ]
  },
  {
   "cell_type": "code",
   "execution_count": null,
   "metadata": {},
   "outputs": [],
   "source": [
    "cm = confusion_matrix(Y_Test, Y_Pred_logistic)\n",
    "\n",
    "fig, ax = plt.subplots(figsize=(8,4))\n",
    "ax.matshow(cm)\n",
    "plt.title('Matriz de Confusión', fontsize=20)\n",
    "plt.ylabel('Etiqueta Verdadera', fontsize=15)\n",
    "plt.xlabel('Etiqueta Predicha', fontsize=15)\n",
    "for (i, j), z in np.ndenumerate(cm):\n",
    "    ax.text(j, i, '{:0.1f}'.format(z), ha='center', va='center')"
   ]
  },
  {
   "cell_type": "code",
   "execution_count": null,
   "metadata": {},
   "outputs": [],
   "source": [
    "train_prec =  []\n",
    "eval_prec = []\n",
    "max_deep_list = list(range(2, 15))\n",
    "\n",
    "for deep in max_deep_list:\n",
    "    clf_3 = DecisionTreeClassifier(max_depth=deep, criterion='entropy')\n",
    "    clf_3.fit(X_Train, Y_Train)\n",
    "    train_prec.append(clf_3.score(X_Train, Y_Train))\n",
    "    eval_prec.append(clf_3.score(X_Test, Y_Test))\n",
    "\n",
    "plt.figure(figsize=(12,7))\n",
    "plt.plot(max_deep_list, train_prec, color='r', label='Set de entrenamiento')\n",
    "plt.plot(max_deep_list, eval_prec, color='b', label='Set de testeo')\n",
    "plt.title('Gráfico de ajuste del árbol de decision', fontsize = 15)\n",
    "plt.legend()\n",
    "plt.ylabel('Precisión')\n",
    "plt.xlabel('Profundidad')\n",
    "plt.show()"
   ]
  }
 ],
 "metadata": {
  "kernelspec": {
   "display_name": "Python 3.10.9 64-bit (microsoft store)",
   "language": "python",
   "name": "python3"
  },
  "language_info": {
   "codemirror_mode": {
    "name": "ipython",
    "version": 3
   },
   "file_extension": ".py",
   "mimetype": "text/x-python",
   "name": "python",
   "nbconvert_exporter": "python",
   "pygments_lexer": "ipython3",
   "version": "3.10.9"
  },
  "orig_nbformat": 4,
  "vscode": {
   "interpreter": {
    "hash": "b83e6067b613b0f30f1ef6ab38e0b2f5f2d9773e13fb650546bfcfe17b567406"
   }
  }
 },
 "nbformat": 4,
 "nbformat_minor": 2
}
